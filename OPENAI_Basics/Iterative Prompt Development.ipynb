{
 "cells": [
  {
   "cell_type": "code",
   "execution_count": 1,
   "id": "5ced1bd6-315b-4737-a643-554f1bc55e5f",
   "metadata": {},
   "outputs": [],
   "source": [
    "import openai\n",
    "import os\n",
    "openai.api_key = os.environ.get('OPENAI_API_KEY', 'default_value')"
   ]
  },
  {
   "cell_type": "code",
   "execution_count": 2,
   "id": "5c9701dc-99b4-485d-8b10-24757e422527",
   "metadata": {},
   "outputs": [],
   "source": [
    "def get_completion(prompt, model=\"gpt-3.5-turbo\"):\n",
    "    messages = [{\"role\": \"user\", \"content\": prompt}]\n",
    "    response = openai.ChatCompletion.create(\n",
    "        model=model,\n",
    "        messages=messages,\n",
    "        temperature=0,\n",
    "    )\n",
    "    return response.choices[0].message[\"content\"]"
   ]
  },
  {
   "cell_type": "markdown",
   "id": "f9300fcd-3b31-41aa-a9cf-3d8489ff2bf3",
   "metadata": {},
   "source": [
    "### Chair fact sheet"
   ]
  },
  {
   "cell_type": "code",
   "execution_count": 3,
   "id": "86164ff8-2616-42cc-b28e-e1fda599b235",
   "metadata": {},
   "outputs": [],
   "source": [
    "fact_sheet_chair = \"\"\"\n",
    "OVERVIEW\n",
    "- Part of a beautiful family of mid-century inspired office furniture, \n",
    "including filing cabinets, desks, bookcases, meeting tables, and more.\n",
    "- Several options of shell color and base finishes.\n",
    "- Available with plastic back and front upholstery (SWC-100) \n",
    "or full upholstery (SWC-110) in 10 fabric and 6 leather options.\n",
    "- Base finish options are: stainless steel, matte black, \n",
    "gloss white, or chrome.\n",
    "- Chair is available with or without armrests.\n",
    "- Suitable for home or business settings.\n",
    "- Qualified for contract use.\n",
    "\n",
    "CONSTRUCTION\n",
    "- 5-wheel plastic coated aluminum base.\n",
    "- Pneumatic chair adjust for easy raise/lower action.\n",
    "\n",
    "DIMENSIONS\n",
    "- WIDTH 53 CM | 20.87”\n",
    "- DEPTH 51 CM | 20.08”\n",
    "- HEIGHT 80 CM | 31.50”\n",
    "- SEAT HEIGHT 44 CM | 17.32”\n",
    "- SEAT DEPTH 41 CM | 16.14”\n",
    "\n",
    "OPTIONS\n",
    "- Soft or hard-floor caster options.\n",
    "- Two choices of seat foam densities: \n",
    " medium (1.8 lb/ft3) or high (2.8 lb/ft3)\n",
    "- Armless or 8 position PU armrests \n",
    "\n",
    "MATERIALS\n",
    "SHELL BASE GLIDER\n",
    "- Cast Aluminum with modified nylon PA6/PA66 coating.\n",
    "- Shell thickness: 10 mm.\n",
    "SEAT\n",
    "- HD36 foam\n",
    "\n",
    "COUNTRY OF ORIGIN\n",
    "- Italy\n",
    "\"\"\""
   ]
  },
  {
   "cell_type": "code",
   "execution_count": 5,
   "id": "2b30dd1f-5104-47eb-a8d8-2a30b6620fcc",
   "metadata": {},
   "outputs": [
    {
     "name": "stdout",
     "output_type": "stream",
     "text": [
      "Introducing our stunning mid-century inspired office chair, the perfect addition to any home or business setting. This chair is part of a beautiful family of office furniture, including filing cabinets, desks, bookcases, meeting tables, and more, all designed with a timeless mid-century aesthetic.\n",
      "\n",
      "One of the standout features of this chair is the variety of options available. You can choose from several shell colors and base finishes to perfectly match your existing decor. The chair is available with either plastic back and front upholstery or full upholstery, giving you the freedom to customize the look and feel of your chair. With 10 fabric and 6 leather options to choose from, you can create a chair that is truly unique to you.\n",
      "\n",
      "The base finish options are stainless steel, matte black, gloss white, or chrome, allowing you to further personalize your chair. You also have the choice of having armrests or opting for an armless design, depending on your preference.\n",
      "\n",
      "Constructed with durability and comfort in mind, this chair features a 5-wheel plastic coated aluminum base for stability and mobility. The pneumatic chair adjust allows for easy raise and lower action, ensuring that you can find the perfect height for your workspace.\n",
      "\n",
      "In terms of dimensions, this chair measures 53 cm in width, 51 cm in depth, and 80 cm in height. The seat height is 44 cm, and the seat depth is 41 cm, providing ample space for comfortable seating.\n",
      "\n",
      "We understand that every workspace is unique, which is why we offer a range of options to suit your specific needs. You can choose between soft or hard-floor caster options, depending on the type of flooring in your workspace. Additionally, you have the choice of two seat foam densities: medium (1.8 lb/ft3) or high (2.8 lb/ft3), allowing you to select the level of support that is most comfortable for you. The chair also comes with the option of armless or 8 position PU armrests, providing additional versatility.\n",
      "\n",
      "When it comes to materials, this chair is crafted with the utmost attention to quality. The shell base glider is made from cast aluminum with a modified nylon PA6/PA66 coating, ensuring durability and longevity. The shell thickness is 10 mm, adding to the chair's sturdiness. The seat is made with HD36 foam, providing a comfortable and supportive seating experience.\n",
      "\n",
      "Finally, this chair is proudly made in Italy, known for its exceptional craftsmanship and design. With its combination of style, functionality, and customization options, this mid-century inspired office chair is the perfect choice for those seeking a timeless and elegant addition to their workspace.\n"
     ]
    }
   ],
   "source": [
    "prompt = f\"\"\"\n",
    "Your task is to help a marketing team create a \n",
    "description for a retail website of a product based \n",
    "on a technical fact sheet.\n",
    "\n",
    "Write a product description based on the information \n",
    "provided in the technical specifications delimited by \n",
    "triple back ticks.\n",
    "\n",
    "Technical specifications: ```{fact_sheet_chair}```\n",
    "\"\"\"\n",
    "response = get_completion(prompt)\n",
    "print(response)"
   ]
  },
  {
   "cell_type": "markdown",
   "id": "45380255-3b0f-432e-8cae-f505d446a7e5",
   "metadata": {},
   "source": [
    "## Issue 1: The text is too long\n",
    "    * Limit the number of words/sentences/characters ( sma eprompt as above but limited to 50 words )"
   ]
  },
  {
   "cell_type": "code",
   "execution_count": 13,
   "id": "9d01067d-fcc2-46cb-b30e-6010909c4dcb",
   "metadata": {},
   "outputs": [
    {
     "name": "stdout",
     "output_type": "stream",
     "text": [
      "Introducing our mid-century inspired office chair, part of a beautiful family of furniture designed for both home and business settings. With multiple options for shell color, base finishes, and upholstery materials, you can customize this chair to fit your style. The chair features a 5-wheel plastic coated aluminum base and a pneumatic chair adjust for easy raise/lower action. It also comes with options for soft or hard-floor casters, two choices of seat foam densities, and the choice between armless or 8 position PU armrests. Made with high-quality materials, including a cast aluminum shell and HD36 foam seat, this chair is both stylish and durable. Imported from Italy, this chair is qualified for contract use and is sure to elevate any workspace.\n"
     ]
    }
   ],
   "source": [
    "prompt = f\"\"\"\n",
    "Your task is to help a marketing team create a \n",
    "description for a retail website of a product based \n",
    "on a technical fact sheet.\n",
    "\n",
    "Write a product description based on the information \n",
    "provided in the technical specifications delimited by \n",
    "triple backticks.\n",
    "\n",
    "Use at most 3 sentences.\n",
    "\n",
    "Technical specifications: ```{fact_sheet_chair}```\n",
    "\"\"\"\n",
    "response = get_completion(prompt)\n",
    "print(response)"
   ]
  },
  {
   "cell_type": "code",
   "execution_count": 8,
   "id": "f1ba2f3d-4bb5-4f5e-a572-046317d2378a",
   "metadata": {},
   "outputs": [
    {
     "data": {
      "text/plain": [
       "333"
      ]
     },
     "execution_count": 8,
     "metadata": {},
     "output_type": "execute_result"
    }
   ],
   "source": [
    "len(response)"
   ]
  },
  {
   "cell_type": "code",
   "execution_count": 10,
   "id": "a99c2a8d-43c0-42bf-9157-11e29b6845e7",
   "metadata": {},
   "outputs": [
    {
     "data": {
      "text/plain": [
       "51"
      ]
     },
     "execution_count": 10,
     "metadata": {},
     "output_type": "execute_result"
    }
   ],
   "source": [
    "len(response.split(\" \"))"
   ]
  },
  {
   "cell_type": "markdown",
   "id": "06136535-2a12-47e7-9b43-f59c38962907",
   "metadata": {},
   "source": [
    "### Issue 2. Text focuses on the wrong details\n",
    "    * Ask it to focus on the aspects that are relevant to the intended audience"
   ]
  },
  {
   "cell_type": "code",
   "execution_count": 14,
   "id": "e1ed11fc-9aff-48a7-9838-c708c8a49421",
   "metadata": {},
   "outputs": [
    {
     "name": "stdout",
     "output_type": "stream",
     "text": [
      "Introducing our mid-century inspired office chair, part of a beautiful furniture collection. With various shell colors and base finishes, it offers versatility for any setting. Choose between plastic or full upholstery in a range of fabric and leather options. The chair features a durable aluminum base and pneumatic chair adjustment for easy height customization. Made in Italy.\n"
     ]
    }
   ],
   "source": [
    "prompt = f\"\"\"\n",
    "Your task is to help a marketing team create a \n",
    "description for a retail website of a product based \n",
    "on a technical fact sheet.\n",
    "\n",
    "Write a product description based on the information \n",
    "provided in the technical specifications delimited by \n",
    "triple backticks.\n",
    "\n",
    "The description is intended for furniture retailers, \n",
    "so should be technical in nature and focus on the \n",
    "materials the product is constructed from.\n",
    "\n",
    "Use at most 50 words.\n",
    "\n",
    "Technical specifications: ```{fact_sheet_chair}```\n",
    "\"\"\"\n",
    "response = get_completion(prompt)\n",
    "print(response)"
   ]
  },
  {
   "cell_type": "code",
   "execution_count": 17,
   "id": "85d2691e-94b8-4164-8a78-967a87382c8e",
   "metadata": {},
   "outputs": [
    {
     "name": "stdout",
     "output_type": "stream",
     "text": [
      "<div>\n",
      "  <h2>Product Description</h2>\n",
      "  <p>\n",
      "    Introducing our latest addition to our mid-century inspired office furniture collection - the SWC-100 Chair. This chair is part of a beautiful family of furniture that includes filing cabinets, desks, bookcases, meeting tables, and more. With its sleek design and customizable options, it is the perfect choice for both home and business settings.\n",
      "  </p>\n",
      "  <p>\n",
      "    The SWC-100 Chair offers several options for customization. You can choose from a variety of shell colors and base finishes to match your existing decor. The chair is available with plastic back and front upholstery or full upholstery in a range of fabric and leather options. The base finish options include stainless steel, matte black, gloss white, or chrome. You can also choose whether to have armrests or not, depending on your preference.\n",
      "  </p>\n",
      "  <p>\n",
      "    The construction of the SWC-100 Chair is top-notch. It features a 5-wheel plastic coated aluminum base, ensuring stability and durability. The chair also has a pneumatic adjuster, allowing for easy raise and lower action. This makes it convenient for users of different heights to find their ideal seating position.\n",
      "  </p>\n",
      "  <p>\n",
      "    The dimensions of the SWC-100 Chair are as follows:\n",
      "  </p>\n",
      "  <table>\n",
      "    <caption>Product Dimensions</caption>\n",
      "    <tr>\n",
      "      <th>Dimension</th>\n",
      "      <th>Measurement (inches)</th>\n",
      "    </tr>\n",
      "    <tr>\n",
      "      <td>Width</td>\n",
      "      <td>20.87\"</td>\n",
      "    </tr>\n",
      "    <tr>\n",
      "      <td>Depth</td>\n",
      "      <td>20.08\"</td>\n",
      "    </tr>\n",
      "    <tr>\n",
      "      <td>Height</td>\n",
      "      <td>31.50\"</td>\n",
      "    </tr>\n",
      "    <tr>\n",
      "      <td>Seat Height</td>\n",
      "      <td>17.32\"</td>\n",
      "    </tr>\n",
      "    <tr>\n",
      "      <td>Seat Depth</td>\n",
      "      <td>16.14\"</td>\n",
      "    </tr>\n",
      "  </table>\n",
      "  <p>\n",
      "    In addition to the customizable options and sturdy construction, the SWC-100 Chair also offers various additional features. You can choose between soft or hard-floor caster options, depending on the type of flooring in your space. The chair also comes with two choices of seat foam densities - medium (1.8 lb/ft3) or high (2.8 lb/ft3). Lastly, you have the option to select either armless or 8 position PU armrests for added comfort.\n",
      "  </p>\n",
      "  <p>\n",
      "    The SWC-100 Chair is made with high-quality materials. The shell, base, and glider are constructed from cast aluminum with a modified nylon PA6/PA66 coating, ensuring durability and longevity. The seat is made with HD36 foam, providing a comfortable and supportive seating experience.\n",
      "  </p>\n",
      "  <p>\n",
      "    This product is proudly made in Italy, known for its craftsmanship and attention to detail.\n",
      "  </p>\n",
      "  <p>\n",
      "    Product ID: SWC-100\n",
      "  </p>\n",
      "</div>\n"
     ]
    }
   ],
   "source": [
    "prompt = f\"\"\"\n",
    "Your task is to help a marketing team create a \n",
    "description for a retail website of a product based \n",
    "on a technical fact sheet.\n",
    "\n",
    "Write a product description based on the information \n",
    "provided in the technical specifications delimited by \n",
    "triple backticks.\n",
    "\n",
    "The description is intended for furniture retailers, \n",
    "so should be technical in nature and focus on the \n",
    "materials the product is constructed from.\n",
    "\n",
    "At the end of the description , include every 7-character Product ID in the technical specification.\n",
    "\n",
    "After the description, include a table that gives the \n",
    "product's dimensions. The table should have two columns.\n",
    "In the first column include the name of the dimension. \n",
    "In the second column include the measurements in inches only.\n",
    "\n",
    "Give the table the title 'Product Dimensions'.\n",
    "\n",
    "Format everything as HTML that can be used in a website. \n",
    "Place the description in a <div> element.\n",
    "\n",
    "Technical specifications: ```{fact_sheet_chair}```\n",
    "\"\"\"\n",
    "response = get_completion(prompt)\n",
    "print(response)"
   ]
  },
  {
   "cell_type": "markdown",
   "id": "05c78d4b-4620-4cb8-bae3-420f6772e930",
   "metadata": {},
   "source": [
    "## Display the rendered html"
   ]
  },
  {
   "cell_type": "code",
   "execution_count": 18,
   "id": "a7304424-f699-411b-b74d-826921b30c50",
   "metadata": {},
   "outputs": [],
   "source": [
    "from IPython.display import display, HTML"
   ]
  },
  {
   "cell_type": "code",
   "execution_count": 19,
   "id": "0ddaad3a-1b7b-4d51-946f-b72e1d013421",
   "metadata": {},
   "outputs": [
    {
     "data": {
      "text/html": [
       "<div>\n",
       "  <h2>Product Description</h2>\n",
       "  <p>\n",
       "    Introducing our latest addition to our mid-century inspired office furniture collection - the SWC-100 Chair. This chair is part of a beautiful family of furniture that includes filing cabinets, desks, bookcases, meeting tables, and more. With its sleek design and customizable options, it is the perfect choice for both home and business settings.\n",
       "  </p>\n",
       "  <p>\n",
       "    The SWC-100 Chair offers several options for customization. You can choose from a variety of shell colors and base finishes to match your existing decor. The chair is available with plastic back and front upholstery or full upholstery in a range of fabric and leather options. The base finish options include stainless steel, matte black, gloss white, or chrome. You can also choose whether to have armrests or not, depending on your preference.\n",
       "  </p>\n",
       "  <p>\n",
       "    The construction of the SWC-100 Chair is top-notch. It features a 5-wheel plastic coated aluminum base, ensuring stability and durability. The chair also has a pneumatic adjuster, allowing for easy raise and lower action. This makes it convenient for users of different heights to find their ideal seating position.\n",
       "  </p>\n",
       "  <p>\n",
       "    The dimensions of the SWC-100 Chair are as follows:\n",
       "  </p>\n",
       "  <table>\n",
       "    <caption>Product Dimensions</caption>\n",
       "    <tr>\n",
       "      <th>Dimension</th>\n",
       "      <th>Measurement (inches)</th>\n",
       "    </tr>\n",
       "    <tr>\n",
       "      <td>Width</td>\n",
       "      <td>20.87\"</td>\n",
       "    </tr>\n",
       "    <tr>\n",
       "      <td>Depth</td>\n",
       "      <td>20.08\"</td>\n",
       "    </tr>\n",
       "    <tr>\n",
       "      <td>Height</td>\n",
       "      <td>31.50\"</td>\n",
       "    </tr>\n",
       "    <tr>\n",
       "      <td>Seat Height</td>\n",
       "      <td>17.32\"</td>\n",
       "    </tr>\n",
       "    <tr>\n",
       "      <td>Seat Depth</td>\n",
       "      <td>16.14\"</td>\n",
       "    </tr>\n",
       "  </table>\n",
       "  <p>\n",
       "    In addition to the customizable options and sturdy construction, the SWC-100 Chair also offers various additional features. You can choose between soft or hard-floor caster options, depending on the type of flooring in your space. The chair also comes with two choices of seat foam densities - medium (1.8 lb/ft3) or high (2.8 lb/ft3). Lastly, you have the option to select either armless or 8 position PU armrests for added comfort.\n",
       "  </p>\n",
       "  <p>\n",
       "    The SWC-100 Chair is made with high-quality materials. The shell, base, and glider are constructed from cast aluminum with a modified nylon PA6/PA66 coating, ensuring durability and longevity. The seat is made with HD36 foam, providing a comfortable and supportive seating experience.\n",
       "  </p>\n",
       "  <p>\n",
       "    This product is proudly made in Italy, known for its craftsmanship and attention to detail.\n",
       "  </p>\n",
       "  <p>\n",
       "    Product ID: SWC-100\n",
       "  </p>\n",
       "</div>"
      ],
      "text/plain": [
       "<IPython.core.display.HTML object>"
      ]
     },
     "metadata": {},
     "output_type": "display_data"
    }
   ],
   "source": [
    "display(HTML(response))"
   ]
  },
  {
   "cell_type": "markdown",
   "id": "6a20402e-4cda-451d-8a89-4fb7a192dd58",
   "metadata": {},
   "source": [
    "# Notes from this exercise\n",
    "     - Trysomething\n",
    "     - Analyzw where the result does not give what you think\n",
    "     - Clarify instructions, give more time to think\n",
    "     - Refine prompts with a batch of examples\n",
    "\n",
    "     ***"
   ]
  },
  {
   "cell_type": "code",
   "execution_count": null,
   "id": "15feabf1-c0d6-4517-bb2a-05602fcb97e2",
   "metadata": {},
   "outputs": [],
   "source": []
  }
 ],
 "metadata": {
  "kernelspec": {
   "display_name": "Python 3 (ipykernel)",
   "language": "python",
   "name": "python3"
  },
  "language_info": {
   "codemirror_mode": {
    "name": "ipython",
    "version": 3
   },
   "file_extension": ".py",
   "mimetype": "text/x-python",
   "name": "python",
   "nbconvert_exporter": "python",
   "pygments_lexer": "ipython3",
   "version": "3.11.4"
  }
 },
 "nbformat": 4,
 "nbformat_minor": 5
}
