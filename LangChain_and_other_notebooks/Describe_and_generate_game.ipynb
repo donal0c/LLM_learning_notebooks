{
 "cells": [
  {
   "cell_type": "markdown",
   "id": "fc078707-d82d-4d9d-afa8-09b2d9dffa95",
   "metadata": {},
   "source": [
    "# L4: Describe-and-Generate game 🖍️"
   ]
  },
  {
   "cell_type": "code",
   "execution_count": 1,
   "id": "30cbb04a-368d-41c8-828e-c9f3263da102",
   "metadata": {},
   "outputs": [],
   "source": [
    "import os\n",
    "import io\n",
    "import IPython.display\n",
    "from PIL import Image\n",
    "import base64 \n",
    "# from dotenv import load_dotenv, find_dotenv\n",
    "# _ = load_dotenv(find_dotenv()) # read local .env file\n",
    "hf_api_key = os.environ['HF_API_KEY']"
   ]
  },
  {
   "cell_type": "code",
   "execution_count": 26,
   "id": "6f4dd44a-7dcf-4b68-af98-5e800f012a76",
   "metadata": {},
   "outputs": [],
   "source": [
    "# Helper function\n",
    "import requests, json\n",
    "\n",
    "#Here we are going to call multiple endpoints!\n",
    "def get_completion(inputs, parameters=None, ENDPOINT_URL=\"\"):\n",
    "    headers = {\n",
    "      \"Authorization\": f\"Bearer {hf_api_key}\",\n",
    "      \"Content-Type\": \"application/json\"\n",
    "    }   \n",
    "    data = { \"inputs\": inputs }\n",
    "    if parameters is not None:\n",
    "        data.update({\"parameters\": parameters})\n",
    "    response = requests.request(\"POST\", ENDPOINT_URL, headers=headers, data=json.dumps(data))\n",
    "    \n",
    "    content_type = response.headers.get('Content-Type')\n",
    "    if 'application/json' in content_type:\n",
    "        return json.loads(response.content.decode(\"utf-8\"))\n",
    "    elif 'image/jpeg' in content_type:\n",
    "        return response.content  # Return raw bytes for image\n",
    "    else:\n",
    "        raise ValueError(f\"Unexpected content type: {content_type}\")"
   ]
  },
  {
   "cell_type": "code",
   "execution_count": 27,
   "id": "f7f9e6c2-d241-419c-bd09-8b4404b197a7",
   "metadata": {},
   "outputs": [],
   "source": [
    "#text-to-image\n",
    "TTI_ENDPOINT = \"https://api-inference.huggingface.co/models/runwayml/stable-diffusion-v1-5\"\n",
    "#image-to-text\n",
    "ITT_ENDPOINT = \"https://api-inference.huggingface.co/models/Salesforce/blip-image-captioning-large\""
   ]
  },
  {
   "cell_type": "markdown",
   "id": "f95215c6-145b-43ab-95b7-1062270bf717",
   "metadata": {},
   "source": [
    "## Building your game with `gr.Blocks()`"
   ]
  },
  {
   "cell_type": "code",
   "execution_count": 29,
   "id": "257edb48-8120-4535-818b-d184fef970d8",
   "metadata": {},
   "outputs": [],
   "source": [
    "#Bringing the functions from lessons 3 and 4!\n",
    "def image_to_base64_str(pil_image):\n",
    "    byte_arr = io.BytesIO()\n",
    "    pil_image.save(byte_arr, format='PNG')\n",
    "    byte_arr = byte_arr.getvalue()\n",
    "    return str(base64.b64encode(byte_arr).decode('utf-8'))\n",
    "\n",
    "def base64_to_pil(img_base64):\n",
    "    base64_decoded = base64.b64decode(img_base64)\n",
    "    byte_stream = io.BytesIO(base64_decoded)\n",
    "    pil_image = Image.open(byte_stream)\n",
    "    return pil_image\n",
    "\n",
    "def captioner(image):\n",
    "    base64_image = image_to_base64_str(image)\n",
    "    result = get_completion(base64_image, None, ITT_ENDPOINT)\n",
    "    return result[0]['generated_text']\n",
    "\n",
    "# def generate(prompt):\n",
    "#     output = get_completion(prompt, None, TTI_ENDPOINT)\n",
    "#     result_image = base64_to_pil(output)\n",
    "#     return result_image\n",
    "\n",
    "def generate(prompt):\n",
    "    output = get_completion(prompt, None, TTI_ENDPOINT)\n",
    "    if isinstance(output, bytes):  # Check if the output is raw bytes (image)\n",
    "        byte_stream = io.BytesIO(output)\n",
    "        pil_image = Image.open(byte_stream)\n",
    "        return pil_image\n",
    "    else:\n",
    "        print(\"ERORrprprp\")"
   ]
  },
  {
   "cell_type": "markdown",
   "id": "67d23f75-b6fe-4f8d-b80a-7a2bdad48b39",
   "metadata": {},
   "source": [
    "### First attempt, just captioning"
   ]
  },
  {
   "cell_type": "code",
   "execution_count": 30,
   "id": "b3c49a2c-9e43-48c4-8f80-d4bb3b2015fb",
   "metadata": {},
   "outputs": [],
   "source": [
    "# import gradio as gr \n",
    "# with gr.Blocks() as demo:\n",
    "#     gr.Markdown(\"# Describe-and-Generate game 🖍️\")\n",
    "#     image_upload = gr.Image(label=\"Your first image\",type=\"pil\")\n",
    "#     btn_caption = gr.Button(\"Generate caption\")\n",
    "#     caption = gr.Textbox(label=\"Generated caption\")\n",
    "    \n",
    "#     btn_caption.click(fn=captioner, inputs=[image_upload], outputs=[caption])\n",
    "\n",
    "# gr.close_all()\n",
    "# demo.launch()"
   ]
  },
  {
   "cell_type": "markdown",
   "id": "e1370311-81e3-4958-aea0-24b20efed09a",
   "metadata": {},
   "source": [
    "### Let's add generation"
   ]
  },
  {
   "cell_type": "code",
   "execution_count": 31,
   "id": "ab55825c-832d-444f-ab90-bc509b7c4566",
   "metadata": {},
   "outputs": [],
   "source": [
    "# with gr.Blocks() as demo:\n",
    "#     gr.Markdown(\"# Describe-and-Generate game 🖍️\")\n",
    "#     image_upload = gr.Image(label=\"Your first image\",type=\"pil\")\n",
    "#     btn_caption = gr.Button(\"Generate caption\")\n",
    "#     caption = gr.Textbox(label=\"Generated caption\")\n",
    "#     btn_image = gr.Button(\"Generate image\")\n",
    "#     image_output = gr.Image(label=\"Generated Image\")\n",
    "#     btn_caption.click(fn=captioner, inputs=[image_upload], outputs=[caption])\n",
    "#     btn_image.click(fn=generate, inputs=[caption], outputs=[image_output])\n",
    "\n",
    "# gr.close_all()\n",
    "# demo.launch()"
   ]
  },
  {
   "cell_type": "markdown",
   "id": "7f8ad3c6-13d2-420c-a2f2-fd1d574e8fc6",
   "metadata": {},
   "source": [
    "### Doing it all at once! "
   ]
  },
  {
   "cell_type": "code",
   "execution_count": 32,
   "id": "3eabd90a-fa6e-4885-b9d7-224a24de139c",
   "metadata": {},
   "outputs": [
    {
     "name": "stdout",
     "output_type": "stream",
     "text": [
      "Running on local URL:  http://127.0.0.1:7870\n",
      "\n",
      "To create a public link, set `share=True` in `launch()`.\n"
     ]
    },
    {
     "data": {
      "text/html": [
       "<div><iframe src=\"http://127.0.0.1:7870/\" width=\"100%\" height=\"500\" allow=\"autoplay; camera; microphone; clipboard-read; clipboard-write;\" frameborder=\"0\" allowfullscreen></iframe></div>"
      ],
      "text/plain": [
       "<IPython.core.display.HTML object>"
      ]
     },
     "metadata": {},
     "output_type": "display_data"
    },
    {
     "data": {
      "text/plain": []
     },
     "execution_count": 32,
     "metadata": {},
     "output_type": "execute_result"
    }
   ],
   "source": [
    "def caption_and_generate(image):\n",
    "    caption = captioner(image)\n",
    "    image = generate(caption)\n",
    "    return [caption, image]\n",
    "\n",
    "with gr.Blocks() as demo:\n",
    "    gr.Markdown(\"# Describe-and-Generate game 🖍️\")\n",
    "    image_upload = gr.Image(label=\"Your first image\",type=\"pil\")\n",
    "    btn_all = gr.Button(\"Caption and generate\")\n",
    "    caption = gr.Textbox(label=\"Generated caption\")\n",
    "    image_output = gr.Image(label=\"Generated Image\")\n",
    "\n",
    "    btn_all.click(fn=caption_and_generate, inputs=[image_upload], outputs=[caption, image_output])\n",
    "\n",
    "gr.close_all()\n",
    "demo.launch()"
   ]
  },
  {
   "cell_type": "code",
   "execution_count": null,
   "id": "5f96d7b6-8122-4473-ae40-4cd3ff9ab69f",
   "metadata": {},
   "outputs": [],
   "source": [
    "gr.close_all()"
   ]
  }
 ],
 "metadata": {
  "kernelspec": {
   "display_name": "Python 3 (ipykernel)",
   "language": "python",
   "name": "python3"
  },
  "language_info": {
   "codemirror_mode": {
    "name": "ipython",
    "version": 3
   },
   "file_extension": ".py",
   "mimetype": "text/x-python",
   "name": "python",
   "nbconvert_exporter": "python",
   "pygments_lexer": "ipython3",
   "version": "3.11.4"
  }
 },
 "nbformat": 4,
 "nbformat_minor": 5
}
